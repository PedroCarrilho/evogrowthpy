{
 "cells": [
  {
   "cell_type": "code",
   "execution_count": 1,
   "id": "5870b224",
   "metadata": {},
   "outputs": [],
   "source": [
    "import numpy as np\n",
    "import scipy\n",
    "from matplotlib import pyplot as plt\n",
    "import evogrowthpy as evgr"
   ]
  },
  {
   "cell_type": "code",
   "execution_count": 2,
   "id": "c08013df",
   "metadata": {},
   "outputs": [
    {
     "name": "stdout",
     "output_type": "stream",
     "text": [
      "0.5961134490294779 0.8410885360830633\n"
     ]
    }
   ],
   "source": [
    "Om_m=0.3\n",
    "h=0.7\n",
    "z=1\n",
    "w0=-0.95\n",
    "wa=0.1\n",
    "xi=10\n",
    "\n",
    "# Normalising to LCDM at z=0\n",
    "D_norm_lcdm=evgr.get_growth_wrap(Om_m,h,[0.0,-1.0,0.0,0.0])[0]\n",
    "\n",
    "# Compute growth quantities\n",
    "D, f = evgr.get_growth_wrap(Om_m,h,[z,w0,wa,xi])/[D_norm_lcdm,1]\n",
    "\n",
    "print(D,f)"
   ]
  },
  {
   "cell_type": "code",
   "execution_count": 3,
   "id": "6dfafff6",
   "metadata": {},
   "outputs": [
    {
     "name": "stdout",
     "output_type": "stream",
     "text": [
      "0.5961135716252314 0.8410884968315572\n"
     ]
    }
   ],
   "source": [
    "# Test with higher accuracy\n",
    "\n",
    "# Normalising to LCDM at z=0\n",
    "D_norm_lcdm=evgr.get_growth_wrap(Om_m,h,[0.0,-1.0,0.0,0.0],accuracy=1e-5)[0]\n",
    "\n",
    "# Compute growth quantities\n",
    "D, f = evgr.get_growth_wrap(Om_m,h,[z,w0,wa,xi],accuracy=1e-5)/[D_norm_lcdm,1]\n",
    "\n",
    "print(D,f)"
   ]
  },
  {
   "cell_type": "code",
   "execution_count": 4,
   "id": "c59e1b41",
   "metadata": {},
   "outputs": [
    {
     "name": "stdout",
     "output_type": "stream",
     "text": [
      "0.5988140803007801 0.8336286421815626\n"
     ]
    }
   ],
   "source": [
    "# Case with neutrino mass (for small-scale growth)\n",
    "\n",
    "m_nu = 0.2\n",
    "\n",
    "Om_nu = 0.0107*m_nu / h**2\n",
    "\n",
    "# Normalising to nuLCDM at z=0\n",
    "D_norm_lcdm=evgr.get_growth_wrap(Om_m,h,[0.0,-1.0,0.0,0.0],om_cb = Om_m-Om_nu)[0]\n",
    "\n",
    "D_nu, f_nu = evgr.get_growth_wrap(Om_m,h,[z,w0,wa,xi],om_cb = Om_m-Om_nu)/[D_norm_lcdm,1]\n",
    "\n",
    "print(D_nu, f_nu)"
   ]
  },
  {
   "cell_type": "code",
   "execution_count": 5,
   "id": "a17ad721",
   "metadata": {},
   "outputs": [
    {
     "data": {
      "text/plain": [
       "<matplotlib.legend.Legend at 0x7f8ca0dac1c0>"
      ]
     },
     "execution_count": 5,
     "metadata": {},
     "output_type": "execute_result"
    },
    {
     "data": {
      "image/png": "[encoded data removed]",
      "text/plain": [
       "<Figure size 432x288 with 1 Axes>"
      ]
     },
     "metadata": {
      "needs_background": "light"
     },
     "output_type": "display_data"
    }
   ],
   "source": [
    "# Evolution with redshift\n",
    "\n",
    "# Normalising to LCDM at z=0\n",
    "D_norm_lcdm=evgr.get_growth_wrap(Om_m,h,[0.0,-1.0,0.0,0.0])[0]\n",
    "\n",
    "# Compute growth quantities\n",
    "z_arr = np.linspace(0,3,50)\n",
    "\n",
    "Df_arr = np.asarray([evgr.get_growth_wrap(Om_m,h,[zi,w0,wa,xi])/[D_norm_lcdm,1] for zi in z_arr])\n",
    "\n",
    "plt.plot(z_arr,Df_arr[:,0],label='D(z)')\n",
    "plt.plot(z_arr,Df_arr[:,1],label='f(z)')\n",
    "\n",
    "plt.xlabel('z')\n",
    "plt.legend()"
   ]
  },
  {
   "cell_type": "code",
   "execution_count": null,
   "id": "fe4f20c6",
   "metadata": {},
   "outputs": [],
   "source": []
  }
 ],
 "metadata": {
  "kernelspec": {
   "display_name": "Python 3 (ipykernel)",
   "language": "python",
   "name": "python3"
  },
  "language_info": {
   "codemirror_mode": {
    "name": "ipython",
    "version": 3
   },
   "file_extension": ".py",
   "mimetype": "text/x-python",
   "name": "python",
   "nbconvert_exporter": "python",
   "pygments_lexer": "ipython3",
   "version": "3.8.12"
  }
 },
 "nbformat": 4,
 "nbformat_minor": 5
}
